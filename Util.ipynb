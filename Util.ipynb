{
  "cells": [
    {
      "cell_type": "markdown",
      "source": [
        "# Term Project\n",
        "## Synthesizing Raw Audio Signals to Sound like Saxophone Sounds"
      ],
      "metadata": {
        "id": "UMpCcPgCQBuj"
      }
    },
    {
      "cell_type": "code",
      "execution_count": null,
      "metadata": {
        "id": "1jlCz_mhNCB_"
      },
      "outputs": [],
      "source": [
        "# Utility Functions"
      ]
    },
    {
      "cell_type": "code",
      "execution_count": null,
      "metadata": {
        "id": "RbvulePGNCCB"
      },
      "outputs": [],
      "source": [
        "import numpy as np\n",
        "import matplotlib.pyplot as plt"
      ]
    },
    {
      "cell_type": "markdown",
      "source": [
        "The function get_music_notes() maps the frequency in hertz to each key on a standard saxophone. Within the function, a list named octave holds the names of keys in musical notation, distinguishing between uppercase for natural notes and lowercase for their corresponding sharps or flats. Setting the base_freq variable to 440 Hz establishes a reference point, specifically the frequency of the note A4. The function then constructs an array called keys, encompassing all possible combinations of note names and octave numbers across the saxophone's range. It then prunes this array to adhere to the standard 88 key piano scale, ensuring compatibility with conventional musical instruments. The function then generates note_freqs, a dictionary mapping each key to its respective frequency, calculated according to the equal tempered scale formula, which maintains consistent intervals between adjacent notes. Additionally, a placeholder with a frequency of 0.0 is appended to the dictionary, serving as a termination signal."
      ],
      "metadata": {
        "id": "o78oAqxLVtR2"
      }
    },
    {
      "cell_type": "code",
      "execution_count": null,
      "metadata": {
        "id": "_wzgBLw2NCCB"
      },
      "outputs": [],
      "source": [
        "def get_music_notes():\n",
        "    '''\n",
        "    Get the frequency in hertz for all keys on a standard saxophone.\n",
        "\n",
        "    Returns\n",
        "    -------\n",
        "    note_freqs : dict\n",
        "        Mapping between note name and corresponding frequency.\n",
        "\n",
        "    '''\n",
        "\n",
        "    # Major keys in capital letter and\n",
        "    octave = ['C', 'c', 'D', 'd', 'E', 'F', 'f', 'G', 'g', 'A', 'a', 'B']\n",
        "    base_freq = 440 #Frequency of Note A4\n",
        "    keys = np.array([x+str(y) for y in range(0,9) for x in octave])\n",
        "    # Trim to standard 88 scale\n",
        "    start = np.where(keys == 'A0')[0][0]\n",
        "    end = np.where(keys == 'C8')[0][0]\n",
        "    keys = keys[start:end+1]\n",
        "\n",
        "    note_freqs = dict(zip(keys, [2**((n+1-49)/12)*base_freq for n in range(len(keys))]))\n",
        "    note_freqs[''] = 0.0 # stop\n",
        "    return note_freqs"
      ]
    },
    {
      "cell_type": "markdown",
      "source": [
        "The function get_sine_wave() generates pure sine. The function takes several parameters, including the desired frequency of the sine wave (frequency), its duration (duration), and optional parameters such as the sample rate (sample_rate) and peak amplitude (amplitude). Inside the function, a time array t is created using np.linspace() to span the duration of the waveform, with the number of samples determined by the product of the sample rate and duration. The sine wave itself is then generated using np.sin(), with its amplitude scaled by the specified amplitude parameter. This results in a waveform that oscillates at the given frequency over the specified duration.\n"
      ],
      "metadata": {
        "id": "xGByo3UWWTor"
      }
    },
    {
      "cell_type": "code",
      "execution_count": null,
      "metadata": {
        "id": "Ev_QmvzkNCCC"
      },
      "outputs": [],
      "source": [
        "def get_sine_wave(frequency, duration, sample_rate=44100, amplitude=4096):\n",
        "    '''\n",
        "    Get pure sine wave.\n",
        "\n",
        "    Parameters\n",
        "    ----------\n",
        "    frequency : float\n",
        "        Frequency in hertz.\n",
        "    duration : float\n",
        "        Time in seconds.\n",
        "    sample_rate : int, optional\n",
        "        Wav file sample rate. The default is 44100.\n",
        "    amplitude : int, optional\n",
        "        Peak Amplitude. The default is 4096.\n",
        "\n",
        "    Returns\n",
        "    -------\n",
        "    wave : TYPE\n",
        "        DESCRIPTION.\n",
        "\n",
        "    '''\n",
        "    t = np.linspace(0, duration, int(sample_rate*duration))\n",
        "    wave = amplitude*np.sin(2*np.pi*frequency*t)\n",
        "    return wave"
      ]
    },
    {
      "cell_type": "markdown",
      "source": [
        "The function apply_saxophone_overtones() mimics the timbre of a saxophone by blending overtones with a fundamental frequency. Its parameters include the fundamental frequency (frequency), the duration of the resulting sound (duration), a list of relative amplitudes for overtones (sax_factor), and optional settings such as sample rate (sample_rate) and amplitude (amplitude). Inside the function, it computes frequencies for overtones based on the provided saxophone factors, ensuring they don't exceed half the sample rate to prevent distortion. Corresponding amplitudes for overtones are also determined, scaled by the saxophone factors. The fundamental sine wave is first generated, then subsequent overtones are added iteratively to it. This process forms a composite waveform representing the saxophone like sound."
      ],
      "metadata": {
        "id": "oRAy6saMVTev"
      }
    },
    {
      "cell_type": "code",
      "execution_count": null,
      "metadata": {
        "id": "W0xhRwhMNCCC"
      },
      "outputs": [],
      "source": [
        "def apply_saxophone_overtones(frequency, duration, sax_factor, sample_rate=44100, amplitude=4096):\n",
        "\n",
        "    frequencies = np.minimum(np.array([frequency * (x - 5) for x in range(len(sax_factor))]), sample_rate // 2)\n",
        "    amplitudes = np.array([amplitude * (x * 2.5) for x in sax_factor])\n",
        "\n",
        "    fundamental = get_sine_wave(frequencies[0], duration, sample_rate, amplitudes[0])\n",
        "    for i in range(1, len(sax_factor)):\n",
        "        overtone = get_sine_wave(frequencies[i], duration, sample_rate, amplitudes[i])\n",
        "        fundamental += overtone\n",
        "\n",
        "    return fundamental"
      ]
    },
    {
      "cell_type": "markdown",
      "source": [
        "The apply_adsr_envelope() function shapes the amplitude of the audio waveform over time using an ADSR (Attack, Decay, Sustain, Release) envelope. With parameters including the input waveform, sample rate, and durations for each phase of the envelope, it provides fine grained control over the dynamic characteristics of the audio signal. Inside the function, the lengths of each envelope phase are calculated in samples based on the provided times and sample rate. Subsequently, an empty array is initialised to store the ADSR envelope. The envelope is then constructed by smoothly transitioning between different amplitude levels during the attack, decay, and release phases, while maintaining a constant level during the sustain phase. Finally, the envelope is applied to the input waveform through element wise multiplication, resulting in a modulated waveform that exhibits the desired amplitude changes over time."
      ],
      "metadata": {
        "id": "soF-rdY_VXHW"
      }
    },
    {
      "cell_type": "code",
      "execution_count": null,
      "metadata": {
        "id": "wWlCRj1NNCCD"
      },
      "outputs": [],
      "source": [
        "import numpy as np\n",
        "\n",
        "def apply_adsr_envelope(input_wave, sample_rate, attack_time, decay_time, sustain_level, release_time):\n",
        "    \"\"\"\n",
        "    Apply an ADSR envelope to the input wave.\n",
        "\n",
        "    Args:\n",
        "    - input_wave (numpy array): The wave to modulate.\n",
        "    - sample_rate (int): The sample rate of the audio signal.\n",
        "    - attack_time (float): Time for the attack phase in seconds.\n",
        "    - decay_time (float): Time for the decay phase in seconds.\n",
        "    - sustain_level (float): Amplitude level during the sustain phase, relative to peak.\n",
        "    - release_time (float): Time for the release phase in seconds.\n",
        "\n",
        "    Returns:\n",
        "    - numpy array: The wave modulated by the ADSR envelope.\n",
        "    \"\"\"\n",
        "    num_samples = len(input_wave)\n",
        "    attack_samples = int(sample_rate * attack_time)\n",
        "    decay_samples = int(sample_rate * decay_time)\n",
        "    release_samples = int(sample_rate * release_time)\n",
        "\n",
        "    # ADSR Envelope Construction\n",
        "    envelope = np.zeros(num_samples)\n",
        "\n",
        "    # Attack\n",
        "    if attack_samples > 0:\n",
        "        envelope[:attack_samples] = np.linspace(0, 1, attack_samples)\n",
        "\n",
        "    # Decay\n",
        "    decay_start = attack_samples\n",
        "    decay_end = decay_start + decay_samples\n",
        "    if decay_samples > 0:\n",
        "        envelope[decay_start:decay_end] = np.linspace(1, sustain_level, decay_samples)\n",
        "\n",
        "    # Sustain\n",
        "    sustain_start = decay_end\n",
        "    sustain_end = num_samples - release_samples\n",
        "    envelope[sustain_start:sustain_end] = sustain_level\n",
        "\n",
        "    # Release\n",
        "    if release_samples > 0:\n",
        "        envelope[sustain_end:] = np.linspace(sustain_level, 0, release_samples)\n",
        "\n",
        "    # Apply envelope to the input wave\n",
        "    modulated_wave = input_wave * envelope\n",
        "\n",
        "    return modulated_wave\n"
      ]
    },
    {
      "cell_type": "markdown",
      "source": [
        "\n",
        "The compute_envelope_lowpass() function derives the amplitude envelope of the input audio signal through low pass filtering. It accepts parameters including the input signal, sample rate, cutoff frequency, and filter order. Using SciPy's butter() function, it computes the coefficients for a low pass Butterworth filter based on the provided cutoff frequency and filter order. The absolute value of the input signal is then passed through the filter using filtfilt(), resulting in a smoothed amplitude envelope that captures the overall variations in signal amplitude while attenuating high frequency components beyond the cutoff frequency."
      ],
      "metadata": {
        "id": "H-sZ00M6VsVY"
      }
    },
    {
      "cell_type": "code",
      "execution_count": null,
      "metadata": {
        "id": "qpp0beipNCCD"
      },
      "outputs": [],
      "source": [
        "from scipy.signal import butter, filtfilt\n",
        "\n",
        "def compute_envelope_lowpass(signal, sample_rate, cutoff_freq=10, order=4):\n",
        "    \"\"\"\n",
        "    Compute the amplitude envelope of a signal using low-pass filtering.\n",
        "\n",
        "    Args:\n",
        "    - signal (numpy array): The input audio signal.\n",
        "    - sample_rate (int): The sample rate of the audio signal.\n",
        "    - cutoff_freq (float): Cutoff frequency for the low-pass filter.\n",
        "    - order (int): Order of the filter.\n",
        "\n",
        "    Returns:\n",
        "    - numpy array: The smoothed amplitude envelope of the signal.\n",
        "    \"\"\"\n",
        "    b, a = butter(order, cutoff_freq / (0.5 * sample_rate), btype='low')\n",
        "    envelope = filtfilt(b, a, np.abs(signal))  # Apply the filter to the rectified signal\n",
        "    return envelope\n"
      ]
    },
    {
      "cell_type": "markdown",
      "source": [
        "The apply_amplitude_envelope() function facilitates the application of an amplitude envelope to the input audio waveform. Upon receiving the input waveform and the desired amplitude envelope, the function first ensures their lengths match to maintain consistency in the modulation process. Subsequently, it applies the envelope to the waveform through element wise multiplication, effectively scaling each sample of the waveform according to the corresponding values in the envelope array. This operation results in a modulated waveform where the amplitude evolves over time as dictated by the envelope."
      ],
      "metadata": {
        "id": "jnjBCFzgV4zB"
      }
    },
    {
      "cell_type": "code",
      "execution_count": null,
      "metadata": {
        "id": "WMfT0RVINCCE"
      },
      "outputs": [],
      "source": [
        "def apply_amplitude_envelope(input_wave, envelope):\n",
        "    \"\"\"\n",
        "    Apply an amplitude envelope to the input wave.\n",
        "\n",
        "    Args:\n",
        "    - input_wave (numpy array): The wave to modulate.\n",
        "    - envelope (numpy array): The amplitude envelope array.\n",
        "\n",
        "    Returns:\n",
        "    - numpy array: The amplitude-modulated wave.\n",
        "    \"\"\"\n",
        "    # Ensure the envelope is the same length as the input wave\n",
        "    if len(input_wave) != len(envelope):\n",
        "        raise ValueError(\"The input wave and envelope must be the same length.\")\n",
        "\n",
        "    # Apply the envelope to the wave\n",
        "    modulated_wave = input_wave * envelope\n",
        "\n",
        "    return modulated_wave\n"
      ]
    }
  ],
  "metadata": {
    "kernelspec": {
      "display_name": "speech-audio",
      "language": "python",
      "name": "python3"
    },
    "language_info": {
      "codemirror_mode": {
        "name": "ipython",
        "version": 3
      },
      "file_extension": ".py",
      "mimetype": "text/x-python",
      "name": "python",
      "nbconvert_exporter": "python",
      "pygments_lexer": "ipython3",
      "version": "3.8.19"
    },
    "colab": {
      "provenance": []
    }
  },
  "nbformat": 4,
  "nbformat_minor": 0
}