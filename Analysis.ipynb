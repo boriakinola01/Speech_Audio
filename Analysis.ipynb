{
 "cells": [
  {
   "cell_type": "markdown",
   "metadata": {},
   "source": [
    "# Module Project\n",
    "## Synthesizing raw audio signals to sound like saxophone sounds"
   ]
  },
  {
   "cell_type": "code",
   "execution_count": 2,
   "metadata": {},
   "outputs": [],
   "source": [
    "import numpy as np"
   ]
  },
  {
   "cell_type": "code",
   "execution_count": 3,
   "metadata": {},
   "outputs": [],
   "source": [
    "def get_music_notes():\n",
    "    '''\n",
    "    Get the frequency in hertz for all keys on a standard saxophone.\n",
    "\n",
    "    Returns\n",
    "    -------\n",
    "    note_freqs : dict\n",
    "        Mapping between note name and corresponding frequency.\n",
    "\n",
    "    '''\n",
    "    \n",
    "    # Major keys in capital letter and \n",
    "    octave = ['C', 'c', 'D', 'd', 'E', 'F', 'f', 'G', 'g', 'A', 'a', 'B'] \n",
    "    base_freq = 440 #Frequency of Note A4\n",
    "    keys = np.array([x+str(y) for y in range(0,9) for x in octave])\n",
    "    # Trim to 1 Octave below and above A4\n",
    "    start = np.where(keys == 'C3')[0][0]\n",
    "    end = np.where(keys == 'C5')[0][0]\n",
    "    keys = keys[start:end+1]\n",
    "    \n",
    "    note_freqs = dict(zip(keys, [2**((n+1-49)/12)*base_freq for n in range(len(keys))]))\n",
    "    note_freqs[''] = 0.0 # stop\n",
    "    return note_freqs"
   ]
  },
  {
   "cell_type": "code",
   "execution_count": 1,
   "metadata": {},
   "outputs": [],
   "source": [
    "def get_sine_wave(frequency, duration, sample_rate=44100, amplitude=4096):\n",
    "    '''\n",
    "    Get pure sine wave. \n",
    "\n",
    "    Parameters\n",
    "    ----------\n",
    "    frequency : float\n",
    "        Frequency in hertz.\n",
    "    duration : float\n",
    "        Time in seconds.\n",
    "    sample_rate : int, optional\n",
    "        Wav file sample rate. The default is 44100.\n",
    "    amplitude : int, optional\n",
    "        Peak Amplitude. The default is 4096.\n",
    "\n",
    "    Returns\n",
    "    -------\n",
    "    wave : TYPE\n",
    "        DESCRIPTION.\n",
    "\n",
    "    '''\n",
    "    t = np.linspace(0, duration, int(sample_rate*duration))\n",
    "    wave = amplitude*np.sin(2*np.pi*frequency*t)\n",
    "    return wave"
   ]
  },
  {
   "cell_type": "code",
   "execution_count": null,
   "metadata": {},
   "outputs": [],
   "source": []
  }
 ],
 "metadata": {
  "kernelspec": {
   "display_name": ".venv",
   "language": "python",
   "name": "python3"
  },
  "language_info": {
   "codemirror_mode": {
    "name": "ipython",
    "version": 3
   },
   "file_extension": ".py",
   "mimetype": "text/x-python",
   "name": "python",
   "nbconvert_exporter": "python",
   "pygments_lexer": "ipython3",
   "version": "3.8.19"
  }
 },
 "nbformat": 4,
 "nbformat_minor": 2
}
